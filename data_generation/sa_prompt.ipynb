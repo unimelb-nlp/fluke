{
 "cells": [
  {
   "cell_type": "code",
   "execution_count": 2,
   "id": "5e0ef40f",
   "metadata": {},
   "outputs": [],
   "source": [
    "import openai\n",
    "import pandas as pd\n",
    "import numpy as np\n",
    "import os\n",
    "import json\n",
    "import random\n",
    "import nltk\n",
    "from nltk.corpus import stopwords\n",
    "from google_pygram import GooglePyGram as gpg\n",
    "from nltk.stem import WordNetLemmatizer\n",
    "lemmatizer = WordNetLemmatizer()\n",
    "from string import punctuation"
   ]
  },
  {
   "cell_type": "code",
   "execution_count": 3,
   "id": "34c416c7",
   "metadata": {},
   "outputs": [],
   "source": [
    "stoplist = set(stopwords.words('english'))"
   ]
  },
  {
   "cell_type": "code",
   "execution_count": 6,
   "id": "f963ef8d-c56e-47f5-9a96-42b3f537d6cd",
   "metadata": {},
   "outputs": [],
   "source": [
    "MODEL = \"gpt-4-1106-preview\""
   ]
  },
  {
   "cell_type": "code",
   "execution_count": 7,
   "id": "f7cb36f1",
   "metadata": {},
   "outputs": [],
   "source": [
    "samples = pd.read_json(\"sa_sample.jsonl\", lines = True)"
   ]
  },
  {
   "cell_type": "code",
   "execution_count": 8,
   "id": "1693124a",
   "metadata": {},
   "outputs": [],
   "source": [
    "samples = samples.to_dict('records')"
   ]
  },
  {
   "cell_type": "code",
   "execution_count": 27,
   "id": "9bb59c4c-1640-4533-919e-e05cf297f533",
   "metadata": {},
   "outputs": [],
   "source": [
    "system_instruction = '''You are a linguist specializing in doing text annotation in the English language. You will be tasked with making minimal modification to a given piece of text based on some linguistics aspects to expose biases in machine learning models.\n",
    "\n",
    "The given text are samples in the sentiment analysis task. \n",
    "\n",
    "Each sample has three fields: \n",
    "- Text: the input text\n",
    "\n",
    "Make sure to keep the literal string value of Object the same when making modification.\n",
    "\n",
    "A task may ask for one or multiple modifications. Each modification should be an object with 3 fields: \n",
    "type: the type of modification\n",
    "modified_text: the modified text.\n",
    "rationale: the reason why and how the modifications are made.\n",
    "\n",
    "Please return a json object which consists of one or multiple modifications.\n",
    "'''"
   ]
  },
  {
   "cell_type": "code",
   "execution_count": 10,
   "id": "feccadd6",
   "metadata": {},
   "outputs": [],
   "source": [
    "def reformat_sample(sample):\n",
    "    text = sample['text']\n",
    "    sample['object'] = sample['label'][0][0]\n",
    "    sample['span'] = sample['label'][0][1]\n",
    "    \n",
    "    return sample"
   ]
  },
  {
   "cell_type": "code",
   "execution_count": null,
   "id": "5091c762",
   "metadata": {},
   "outputs": [],
   "source": [
    "for i,sample in enumerate(samples):\n",
    "    samples[i] = reformat_sample(sample)\n",
    "    print(samples[i])"
   ]
  },
  {
   "cell_type": "code",
   "execution_count": 12,
   "id": "35fd774f",
   "metadata": {},
   "outputs": [],
   "source": [
    "def format_prompt(system_instruction, instruction, input):\n",
    "    # print(input)\n",
    "    text = input['text']\n",
    "    label = str(input['label'])\n",
    "    object = input['object']\n",
    "    span = input['span']\n",
    "    # print(text)\n",
    "    # print(label)\n",
    "    message = instruction.format(text = text, object = object, span = span)\n",
    "    messages = [\n",
    "        {\"role\": \"system\", \"content\": system_instruction},\n",
    "        {\"role\": \"user\", \"content\": message},\n",
    "    ]\n",
    "    return messages"
   ]
  },
  {
   "cell_type": "code",
   "execution_count": 13,
   "id": "4e1f6013",
   "metadata": {},
   "outputs": [],
   "source": [
    "# Example OpenAI Python library request\n",
    "def request(samples, prompt_type):\n",
    "    for sample in samples:\n",
    "        messages = format_prompt(system_instruction, prompt_type, sample)\n",
    "        response = openai.ChatCompletion.create(\n",
    "            model=MODEL,\n",
    "            response_format={ \"type\": \"json_object\" },\n",
    "            messages= messages,\n",
    "            temperature=0,\n",
    "        )\n",
    "        ans_model = response['choices'][0]['message']['content']\n",
    "        # print(messages[1]['content'])\n",
    "        print(sample)\n",
    "        print(ans_model)\n",
    "        print('===================')"
   ]
  },
  {
   "cell_type": "markdown",
   "id": "110f882f",
   "metadata": {},
   "source": [
    "Alternative requests and helper functions for the special cases which require another variable for randomization (geographical bias and nonce words)\n"
   ]
  },
  {
   "cell_type": "markdown",
   "id": "89eef756",
   "metadata": {},
   "source": [
    "Geographical bias"
   ]
  },
  {
   "cell_type": "code",
   "execution_count": 122,
   "id": "321d6255",
   "metadata": {},
   "outputs": [],
   "source": [
    "subsaharan_africa = ['Angola', 'Benin', 'Botswana', 'Burkina Faso', 'Burundi', 'Cameroon', 'Cape Verde',\n",
    "          'Central African Republic', 'Chad', 'Comoros', 'Djibouti', 'Republic of the Congo', 'Democratic Republic of the Congo (Zaire)',\n",
    "          \"Côte d'Ivoire\", 'Equatorial Guinea', 'Eritrea', 'Ethiopia', 'Gabon', 'Gambia', 'Ghana', 'Guinea', \n",
    "          'Guinea-Bissau', 'Kenya', 'Lesotho', 'Liberia', 'Madagascar', 'Malawi', 'Mali', 'Mauritius', 'Mozambique', \n",
    "          'Namibia', 'Niger', 'Nigeria', 'Rwanda', 'São Tomé and Príncipe', 'Senegal', 'Seychelles', 'Sierra Leone', \n",
    "          'Somalia', 'South Africa', 'South Sudan', 'Swaziland', 'Tanzania', 'Togo', 'Uganda']\n",
    "          \n",
    "\n",
    "#Middle East, North Africa, and Turkey\t\t   \n",
    "menat = ['Algeria', 'Bahrain', 'Iran', 'Iraq', 'Jordan', 'Egypt', 'Kuwait', 'Lebanon', 'Libya', 'Mauritania',\n",
    "          'Morocco', 'Oman', 'Palestine', 'Qatar', 'Saudi Arabia', 'Sudan', 'Syria', 'Turkey',\n",
    "          'Tunisia', 'United Arab Emirates', 'Yemen']\n",
    "\n",
    "\n",
    "southeast_asia = ['Brunei', 'Cambodia', 'Timor Leste', 'Indonesia', 'Laos', 'Malaysia', 'Myanmar',\n",
    "        'Philippines', 'Singapore', 'Thailand', 'Vietnam']\n",
    "\n",
    "east_asia = ['China', 'Japan', 'Mongolia', 'North Korea', 'South Korea', 'Taiwan']\n",
    "\n",
    "south_asia = ['Bangladesh', 'Bhutan', 'India', 'The Maldives', 'Nepal', 'Pakistan', 'Sri Lanka']\n",
    "\n",
    "central_asia = ['Afghanistan', 'Armenia', 'Azerbaijan', 'Georgia', 'Kazakhstan', 'Kyrgyzstan', \n",
    "        'Tajikistan', 'Turkmenistan', 'Uzbekistan']\n",
    "\n",
    "\n",
    "#Oceania, Melanesia, and Polynesia\n",
    "oceania = ['Fiji', 'Federated States of Micronesia', 'Kiribati', 'Marshall Islands', 'Nauru', \n",
    "           'Palau', 'Papua New Guinea', 'Samoa', 'Solomon Islands', 'Tonga', 'Tuvalu', 'Vanuatu']\n",
    "\n",
    "australia_nz = ['Australia', 'New Zealand']\n",
    "\n",
    "\n",
    "#Carribean and Latin America\n",
    "latin_america = ['Mexico', 'Puerto Rico', 'Dominican Republic', 'Cuba', 'Haiti', 'Belize', 'Grenada', 'Saint Lucia',\n",
    "           'Costa Rica', 'El Salvador', 'Guatemala', 'Honduras', 'Nicaragua', 'Panama', 'Jamaica', 'Bahamas', 'Barbados',\n",
    "           'Dominica', 'Brazil', 'Argentina', 'Bolivia', 'Chile', 'Colombia', 'Ecuador', 'Guyana', 'Paraguay', 'Peru',\n",
    "           'Suriname', 'Trinidad and Tobago', 'Uruguay', 'Venezuela', 'Antigua and Barbuda', 'Saint Kitts and Nevis']\n",
    "\n",
    "north_america = ['Canada', 'United States of America']\n",
    "\n",
    "#Northern Europe (nordic)\n",
    "northern_europe = ['Denmark', 'Estonia', 'Finland', 'Iceland', 'Latvia', 'Lithuania', 'Norway', 'Sweden']\n",
    "\t\t   \n",
    "western_europe = ['Belgium', 'France', 'Republic of Ireland', 'Luxembourg', 'Monaco', 'Netherlands', 'United Kingdom']\n",
    "\n",
    "central_europe = ['Austria', 'Czech Republic', 'Germany', 'Hungary', 'Liechtenstein', 'Poland', 'Slovakia', 'Switzerland']\n",
    "\n",
    "southern_europe = ['Andorra', 'Italy', 'Malta', 'Portugal', 'San Marino', 'Spain', 'Vatican City']\n",
    "\n",
    "#Southeastern Europe (mostly Balkan)\n",
    "southeastern_europe = ['Albania', 'Bosnia and Herzegovina', 'Bulgaria', 'Croatia', 'Cyprus', 'Greece',\n",
    "          'Kosovo', 'North Macedonia', 'Moldova', 'Montenegro', 'Romania', 'Serbia', 'Slovenia']\n",
    "\t\t   \n",
    "eastern_europe = ['Russia', 'Belarus', 'Ukraine']\n",
    "regions = [subsaharan_africa, menat, south_asia, oceania, latin_america, eastern_europe]"
   ]
  },
  {
   "cell_type": "code",
   "execution_count": null,
   "id": "2f8c8936",
   "metadata": {},
   "outputs": [],
   "source": []
  },
  {
   "cell_type": "code",
   "execution_count": 135,
   "id": "562539c2",
   "metadata": {},
   "outputs": [],
   "source": [
    "def format_prompt_loc(system_instruction, instruction, input, region):\n",
    "    # print(input)\n",
    "    text = input['text']\n",
    "    label = str(input['label'])\n",
    "    object = input['object']\n",
    "    span = input['span']\n",
    "    loc = random.sample(region,1)\n",
    "    print(loc)\n",
    "    message = instruction.format(text = text, object = object, span = span, loc=loc)\n",
    "    messages = [\n",
    "        {\"role\": \"system\", \"content\": system_instruction},\n",
    "        {\"role\": \"user\", \"content\": message},\n",
    "    ]\n",
    "    return messages"
   ]
  },
  {
   "cell_type": "code",
   "execution_count": 134,
   "id": "834b415c",
   "metadata": {},
   "outputs": [],
   "source": [
    "def request_loc(samples, prompt_type):\n",
    "    for sample in samples:\n",
    "        for region in regions:\n",
    "            print(region)\n",
    "            messages = format_prompt_loc(system_instruction, prompt_type, sample, region)\n",
    "            response = openai.ChatCompletion.create(\n",
    "                model=MODEL,\n",
    "                response_format={ \"type\": \"json_object\" },\n",
    "                messages= messages,\n",
    "                temperature=0,\n",
    "            )\n",
    "            ans_model = response['choices'][0]['message']['content']\n",
    "            print(sample)\n",
    "            print(ans_model)\n",
    "        print('===================')"
   ]
  },
  {
   "cell_type": "markdown",
   "id": "5345f605",
   "metadata": {},
   "source": [
    "Nonce words"
   ]
  },
  {
   "cell_type": "code",
   "execution_count": 81,
   "id": "a52c047f",
   "metadata": {},
   "outputs": [],
   "source": [
    "nonce_words = [\"roagly\", \"vibble\", \"drok\", \"scrop\", \"plard\", \"hif\", \"tepable\", \"plawic\", \"bluth\", \"sprat\", \"flurf\"]"
   ]
  },
  {
   "cell_type": "code",
   "execution_count": 87,
   "id": "59bde695",
   "metadata": {},
   "outputs": [],
   "source": [
    "def format_prompt_concepts(system_instruction, instruction, input):\n",
    "    \n",
    "    text = input['text']\n",
    "    label = str(input['label'])\n",
    "    object = input['object']\n",
    "    span = input['span']\n",
    "    nonce = random.sample(nonce_words,1)\n",
    "    message = instruction.format(text = text, nonce = nonce, object = object, span = span)\n",
    "    messages = [\n",
    "        {\"role\": \"system\", \"content\": system_instruction},\n",
    "        {\"role\": \"user\", \"content\": message},\n",
    "    ]\n",
    "    return messages"
   ]
  },
  {
   "cell_type": "code",
   "execution_count": 89,
   "id": "121ac4e3",
   "metadata": {},
   "outputs": [],
   "source": [
    "def request_concepts(samples, prompt_type):\n",
    "    for sample in samples:\n",
    "        messages = format_prompt_concepts(system_instruction, prompt_type, sample)\n",
    "        response = openai.ChatCompletion.create(\n",
    "            model=MODEL,\n",
    "            response_format={ \"type\": \"json_object\" },\n",
    "            messages= messages,\n",
    "            temperature=0,\n",
    "        )\n",
    "        ans_model = response['choices'][0]['message']['content']\n",
    "        # print(messages[1]['content'])\n",
    "        print(sample)\n",
    "        print(ans_model)\n",
    "        print('===================')"
   ]
  },
  {
   "cell_type": "markdown",
   "id": "0872102d",
   "metadata": {},
   "source": [
    "# Bias tests"
   ]
  },
  {
   "cell_type": "markdown",
   "id": "e2957a27",
   "metadata": {},
   "source": [
    "### Frequency bias"
   ]
  },
  {
   "cell_type": "code",
   "execution_count": 21,
   "id": "b529d929",
   "metadata": {},
   "outputs": [],
   "source": [
    "frequency_bias_instruction = \"\"\"Replace one word of higher frequency in English vocabulary with a less frequent word. Add \"replaced_word\" and \"new_word\" fields to json output with the replaced and new words, accordingly.\n",
    "\n",
    "Example:\n",
    "\n",
    "Text: The cat licked its paw.\n",
    "Modified Text: The yak licked its paw.\n",
    "\n",
    "\n",
    "Text: {text}\n",
    "Object: {object}\n",
    "Refers to: {span}\"\"\""
   ]
  },
  {
   "cell_type": "code",
   "execution_count": null,
   "id": "2dc5230f",
   "metadata": {},
   "outputs": [],
   "source": [
    "request(samples, frequency_bias_instruction)"
   ]
  },
  {
   "cell_type": "markdown",
   "id": "452e9fef",
   "metadata": {},
   "source": [
    "### Temporal bias"
   ]
  },
  {
   "cell_type": "code",
   "execution_count": 23,
   "id": "2e57bfc9",
   "metadata": {},
   "outputs": [],
   "source": [
    "temporal_bias_instruction = \"\"\"Please replace one word with its old-fashioned synonym. \n",
    "\n",
    "Text: {text}\n",
    "Object: {object}\n",
    "Refers to: {span}\n",
    "\n",
    "\"\"\" \n"
   ]
  },
  {
   "cell_type": "code",
   "execution_count": null,
   "id": "bf856bc9",
   "metadata": {},
   "outputs": [],
   "source": [
    "request(samples, temporal_bias_instruction)"
   ]
  },
  {
   "cell_type": "markdown",
   "id": "1c82e492",
   "metadata": {},
   "source": [
    "### Geographical bias"
   ]
  },
  {
   "cell_type": "code",
   "execution_count": null,
   "id": "4eb8bf8d",
   "metadata": {},
   "outputs": [],
   "source": []
  },
  {
   "cell_type": "code",
   "execution_count": 132,
   "id": "f691f97b",
   "metadata": {},
   "outputs": [],
   "source": [
    "geographical_bias_instruction = \"\"\"Change the entity name in the sentence with name commonly used in {loc}. \n",
    "Change the other words in the sentence so that it is culturally fitted with context of {loc}.\n",
    "Do not modify entities mentioned in {span}. Write the modified sentences in English.\n",
    "\n",
    "Text: {text}\n",
    "Object: {object}\n",
    "Refers to: {span}\"\"\""
   ]
  },
  {
   "cell_type": "code",
   "execution_count": null,
   "id": "e35ff54e",
   "metadata": {},
   "outputs": [],
   "source": [
    "request_loc(samples, geographical_bias_instruction)"
   ]
  },
  {
   "cell_type": "markdown",
   "id": "cc4205ff",
   "metadata": {},
   "source": [
    "### Position bias"
   ]
  },
  {
   "cell_type": "code",
   "execution_count": 30,
   "id": "8d27df23",
   "metadata": {},
   "outputs": [],
   "source": [
    "position_bias_instruction = '''Move the text that the pronoun {object} refers to ({span}) to another position in the same sentence.\n",
    "\n",
    "Text: {text}\n",
    "Object: {object}\n",
    "Refers to: {span}\n",
    "\n",
    "'''"
   ]
  },
  {
   "cell_type": "code",
   "execution_count": null,
   "id": "1626b67e",
   "metadata": {},
   "outputs": [],
   "source": [
    "request(samples, position_bias_instruction)"
   ]
  },
  {
   "cell_type": "markdown",
   "id": "f462ed3b",
   "metadata": {},
   "source": [
    "### Length Bias "
   ]
  },
  {
   "cell_type": "code",
   "execution_count": 34,
   "id": "f3e1a5e9",
   "metadata": {},
   "outputs": [],
   "source": [
    "length_bias_instruction = '''Modify the sentence length, but retain sentence meaning. Do not remove or modify the following text: {span}.\n",
    "\n",
    "1. \"shorter_sentence\": Remove 1 - 3 words from the sentence.\n",
    "2. \"longer_sentence\": Add 2 - 5 words to the sentence.\n",
    "\n",
    "Text: {text}\n",
    "Object: {object}\n",
    "Refers to: {span}\n",
    "\n",
    "'''"
   ]
  },
  {
   "cell_type": "code",
   "execution_count": null,
   "id": "f55bbe87",
   "metadata": {},
   "outputs": [],
   "source": [
    "request(samples, length_bias_instruction)"
   ]
  },
  {
   "cell_type": "markdown",
   "id": "8e206e02",
   "metadata": {},
   "source": [
    "## Orthography"
   ]
  },
  {
   "cell_type": "markdown",
   "id": "8dde0194",
   "metadata": {},
   "source": [
    "### Typos"
   ]
  },
  {
   "cell_type": "code",
   "execution_count": 36,
   "id": "9665ea50",
   "metadata": {},
   "outputs": [],
   "source": [
    "typo_instruction = '''Add typos to the text. Common types of typos are:\n",
    "\n",
    "1. \"addition\": Adding a letter: Forty (correct) vs. Fourty\n",
    "2. \"omission\": Omitting a letter: Embarrass (correct) vs. Embarass\n",
    "3. \"flipping\": flipping letters: Friend (correct) vs. Freind\n",
    "\n",
    "Reply with the modified text for each type of typo. Do not modify the following words: {object}, {span}\n",
    "\n",
    "Text: {text}\n",
    "Object: {object}\n",
    "Refers to: {span}\n",
    "\n",
    "'''"
   ]
  },
  {
   "cell_type": "code",
   "execution_count": null,
   "id": "ac4816ed",
   "metadata": {},
   "outputs": [],
   "source": [
    "request(samples, typo_instruction)"
   ]
  },
  {
   "cell_type": "markdown",
   "id": "5bcf7f13",
   "metadata": {},
   "source": [
    "## Capitalization"
   ]
  },
  {
   "cell_type": "code",
   "execution_count": 40,
   "id": "dc1f4da5",
   "metadata": {},
   "outputs": [],
   "source": [
    "capitalization_instruction = '''Modify the text capitalization by:\n",
    "\n",
    "1. \"lower\": change a word with upper case to lower case.\n",
    "\n",
    "2. \"upper\": change a word starting with lower case to upper case.\n",
    "\n",
    "3. \"all_caps\": change a word to ALL CAPS.\n",
    "\n",
    "4. \"sponge\": change a word to SpOnGeBoBcASe.\n",
    "\n",
    "Reply with the modified text for each type of change.\n",
    "\n",
    "Text: {text}\n",
    "Object: {object}\n",
    "Refers to: {span}\n",
    "\n",
    "'''"
   ]
  },
  {
   "cell_type": "code",
   "execution_count": null,
   "id": "f289eb3a",
   "metadata": {},
   "outputs": [],
   "source": [
    "request(samples, capitalization_instruction)"
   ]
  },
  {
   "cell_type": "markdown",
   "id": "872edf49",
   "metadata": {},
   "source": [
    "## Punctuation"
   ]
  },
  {
   "cell_type": "code",
   "execution_count": 44,
   "id": "9008bb37",
   "metadata": {},
   "outputs": [],
   "source": [
    "punctuation_instruction = '''Make change to the punctuation of the text:\n",
    "\n",
    "1. \"addition\": add a random comma, semi-colon etc \n",
    "\n",
    "2. \"replacement\": change the full stop to the exclamation or question mark \n",
    "\n",
    "3. \"glueing\": remove white space between two words (glue them together). If possible, glue the word which the pronoun {object} refers to.\n",
    "\n",
    "Reply with the modified text for each type of change.\n",
    "\n",
    "Text: {text}\n",
    "Object: {object}\n",
    "Refers to: {span}\n",
    "\n",
    "'''"
   ]
  },
  {
   "cell_type": "code",
   "execution_count": null,
   "id": "ff534246",
   "metadata": {},
   "outputs": [],
   "source": [
    "request(samples, punctuation_instruction)"
   ]
  },
  {
   "cell_type": "markdown",
   "id": "0fc654d5",
   "metadata": {},
   "source": [
    "## Morphology"
   ]
  },
  {
   "cell_type": "markdown",
   "id": "d38fa84b",
   "metadata": {},
   "source": [
    "## Derivation"
   ]
  },
  {
   "cell_type": "code",
   "execution_count": 56,
   "id": "f60a2c05",
   "metadata": {},
   "outputs": [],
   "source": [
    "derivation_replacement_instruction ='''Find a derived word (a word with a suffix or a prefix) in the text below and replace it with a non-derived word (word without any prefixes or suffixes). Do not modify the following words: {span}.\n",
    "\n",
    "\n",
    "Example: a sometimes tedious film -> a sometimes dull film (tedious is derived from tedium using a -ios suffix)\n",
    "\n",
    "Example: a very good film -> Skip\n",
    "\n",
    "Text: {text}\n",
    "Object: {object}\n",
    "Refers to: {span}'''"
   ]
  },
  {
   "cell_type": "code",
   "execution_count": null,
   "id": "438b2b6f",
   "metadata": {},
   "outputs": [],
   "source": [
    "request(samples, derivation_replacement_instruction)"
   ]
  },
  {
   "cell_type": "code",
   "execution_count": null,
   "id": "dada721f",
   "metadata": {},
   "outputs": [],
   "source": []
  },
  {
   "cell_type": "code",
   "execution_count": 60,
   "id": "eff3d424",
   "metadata": {},
   "outputs": [],
   "source": [
    "antiderivation_replacement_instruction ='''Find any non-derived word (a word without suffixes or prefixes) in the text below and change it into a derived word (word with a prefix or a suffix). Do not add grammatical suffixes (-s, -ed, -er, -est). Do not modify the following words: {span}.\n",
    "\n",
    "Example: a sometimes dull film ->  a sometimes tedious film (tedious is derived from tedium using a -ios suffix)\n",
    "\n",
    "Example: an very hard task -> an increasingly hard task (increasingly is derived from increasing using a -ly suffix)\n",
    "\n",
    "Example: amazing accomplishment -> Skip (both words are already derived)\n",
    "\n",
    "Text: {text}\n",
    "Object: {object}\n",
    "Refers to: {span}'''"
   ]
  },
  {
   "cell_type": "code",
   "execution_count": null,
   "id": "1ffb84c0",
   "metadata": {},
   "outputs": [],
   "source": [
    "request(samples, antiderivation_replacement_instruction)"
   ]
  },
  {
   "cell_type": "markdown",
   "id": "4b2bf751",
   "metadata": {},
   "source": [
    "## Compound words"
   ]
  },
  {
   "cell_type": "code",
   "execution_count": 62,
   "id": "1f9e8f6f",
   "metadata": {},
   "outputs": [],
   "source": [
    "compound_word_instruction ='''Find any non-compond (single-root) word in the text below and change it into a compound word (word with several roots). Do not modify the following words: {span}.\n",
    "\n",
    "\n",
    "Example: \n",
    "\"a sequence of ridiculous shooting scenes\" -> \"a sequence of ridiculous shoot-'em-up scenes\"\n",
    "Example: dull acting ->  lacklustre acting\n",
    "\n",
    "Text: {text}\n",
    "Object: {object}\n",
    "Refers to: {span}\n",
    "'''"
   ]
  },
  {
   "cell_type": "code",
   "execution_count": null,
   "id": "246719e5",
   "metadata": {},
   "outputs": [],
   "source": [
    "request(samples, compound_word_instruction)"
   ]
  },
  {
   "cell_type": "markdown",
   "id": "7c3a51eb",
   "metadata": {},
   "source": [
    "## Irregular verbs"
   ]
  },
  {
   "cell_type": "code",
   "execution_count": 64,
   "id": "1903310e",
   "metadata": {},
   "outputs": [],
   "source": [
    "regular_verb_instruction ='''Find a regular verb in the past tense and replace it with an irregular verb.\n",
    "\n",
    "Example: he received a prize -> he got a prize\n",
    "\n",
    "Example: amazing stuff  ->  Skip\n",
    "\n",
    "Text: {text}\n",
    "Object: {object}\n",
    "Refers to: {span}'''"
   ]
  },
  {
   "cell_type": "code",
   "execution_count": null,
   "id": "fe142b95",
   "metadata": {},
   "outputs": [],
   "source": [
    "request(samples, regular_verb_instruction)"
   ]
  },
  {
   "cell_type": "code",
   "execution_count": null,
   "id": "88e31b61",
   "metadata": {},
   "outputs": [],
   "source": []
  },
  {
   "cell_type": "markdown",
   "id": "76eef4fe",
   "metadata": {},
   "source": [
    "## Syntax"
   ]
  },
  {
   "cell_type": "markdown",
   "id": "d61a38cb",
   "metadata": {},
   "source": [
    "### Active to passive"
   ]
  },
  {
   "cell_type": "code",
   "execution_count": 66,
   "id": "932829e3",
   "metadata": {},
   "outputs": [],
   "source": [
    "passive_voice_instruction = '''Rewrite the sentence in passive voice.\n",
    "\n",
    "Text: {text}\n",
    "Object: {object}\n",
    "Refers to: {span}\n",
    "\n",
    "'''"
   ]
  },
  {
   "cell_type": "code",
   "execution_count": null,
   "id": "eb05d994",
   "metadata": {},
   "outputs": [],
   "source": [
    "request(samples, passive_voice_instruction)"
   ]
  },
  {
   "cell_type": "markdown",
   "id": "2b57b848",
   "metadata": {},
   "source": [
    "### Coordinating conjunctions"
   ]
  },
  {
   "cell_type": "code",
   "execution_count": 68,
   "id": "05c76bc4",
   "metadata": {},
   "outputs": [],
   "source": [
    "coordinating_conjunction_instruction = '''Change a noun or verb in this sentence into multiple nouns or verbs combined with coordinating conjunction. Do not modify the following words: {span}\n",
    "\n",
    "Text: {text}\n",
    "Object: {object}\n",
    "Refers to: {span}'''"
   ]
  },
  {
   "cell_type": "code",
   "execution_count": null,
   "id": "4891c1f8",
   "metadata": {},
   "outputs": [],
   "source": [
    "request(samples, coordinating_conjunction_instruction)"
   ]
  },
  {
   "cell_type": "markdown",
   "id": "712dd14d",
   "metadata": {},
   "source": [
    "### Tense"
   ]
  },
  {
   "cell_type": "code",
   "execution_count": 70,
   "id": "df938f9c",
   "metadata": {},
   "outputs": [],
   "source": [
    "tense_instruction = '''Change the tense of verbs in the sentence. Keep the tenses consistent across the passage.\n",
    "\n",
    "\n",
    "Text: {text}\n",
    "Object: {object}\n",
    "Refers to: {span}'''"
   ]
  },
  {
   "cell_type": "code",
   "execution_count": null,
   "id": "ea8fed11",
   "metadata": {},
   "outputs": [],
   "source": [
    "request(samples, tense_instruction)"
   ]
  },
  {
   "cell_type": "markdown",
   "id": "882e4c68",
   "metadata": {},
   "source": [
    "### Grammatical role"
   ]
  },
  {
   "cell_type": "code",
   "execution_count": 72,
   "id": "1ff216ae",
   "metadata": {},
   "outputs": [],
   "source": [
    "grammatical_role_instruction = '''Modify the position of grammatical role in the sentence.\n",
    "\n",
    "1. \"subject_object\": swap the subject with object\n",
    "Example: \n",
    "Miranda asked him a question. --> He asked Miranda a question.\n",
    "\n",
    "2. \"entities\": swap the position of other entities\n",
    "Example:\n",
    "Samantha, the older Rico's friend, will be appointed as Chair of Student Body replacing Marie. --> Marie, the older Samantha's friend, will be appointed as Chair of Student Body replacing Rico.\n",
    "\n",
    "Text: {text}\n",
    "Object: {object}\n",
    "Refers to: {span}'''"
   ]
  },
  {
   "cell_type": "code",
   "execution_count": null,
   "id": "a0f45c9b",
   "metadata": {},
   "outputs": [],
   "source": [
    "request(samples, grammatical_role_instruction)"
   ]
  },
  {
   "cell_type": "markdown",
   "id": "529371b8",
   "metadata": {},
   "source": [
    "### Clause structure"
   ]
  },
  {
   "cell_type": "code",
   "execution_count": 74,
   "id": "f6d5b7b9",
   "metadata": {},
   "outputs": [],
   "source": [
    "sentence_structure_instruction = '''\n",
    "Change the position of main and subordinate clause. If the input is simple sentence, skip.\n",
    "\n",
    "Text: {text}\n",
    "Object: {object}\n",
    "Refers to: {span}'''"
   ]
  },
  {
   "cell_type": "code",
   "execution_count": null,
   "id": "edc0d6a4",
   "metadata": {},
   "outputs": [],
   "source": [
    "request(samples, sentence_structure_instruction)"
   ]
  },
  {
   "cell_type": "markdown",
   "id": "768c6ec7",
   "metadata": {},
   "source": [
    "## Semantics and lexicon"
   ]
  },
  {
   "cell_type": "markdown",
   "id": "a757564b",
   "metadata": {},
   "source": [
    "## Concept replacement"
   ]
  },
  {
   "cell_type": "code",
   "execution_count": 84,
   "id": "c23900e3",
   "metadata": {},
   "outputs": [],
   "source": [
    "concept_replacement_instruction ='''Replace a concept with one that is similar but fail the quality. Do not modify the following words: {span}\n",
    "\n",
    "Replacement types include:\n",
    "\n",
    "1. \"synonym\": synonyms\n",
    "Example: embodies the character with an effortlessly regal charisma . -> embodies the character with an effortlessly regal charm. (charm and charisma are synonyms)\n",
    "\n",
    "2. \"hierarchy\": hyper/hyponyms\n",
    "Example: The title not only describes its main characters, but the lazy people behind the camera as well. -> The title not only describes its main characters, but the lazy people behind the equipment as well. (equipment is a hypernym of camera)\n",
    "\n",
    "3. \"nonce\": the following nonce word: {nonce}\n",
    "Example: Has a lot of the virtues of eastwood at his best. - Has a lot of the virtues of bluth at his best. (bluth is a nonce word)\n",
    "\n",
    "4. \"idiom\": metaphors/idioms\n",
    "Example: This is a train wreck of an action film -> This is a disastrous action film (train wreck is a metaphor for disastrous)\n",
    "\n",
    "Reply the modified text for each type of replacement.\n",
    "\n",
    "Text: {text}\n",
    "Object: {object}\n",
    "Refers to: {span}\n",
    "\n",
    "'''"
   ]
  },
  {
   "cell_type": "code",
   "execution_count": null,
   "id": "02a2c33e",
   "metadata": {},
   "outputs": [],
   "source": [
    "request_concepts(samples, concept_replacement_instruction)"
   ]
  },
  {
   "cell_type": "markdown",
   "id": "498ca270",
   "metadata": {},
   "source": [
    "## Adjectives/adverbs change"
   ]
  },
  {
   "cell_type": "code",
   "execution_count": 95,
   "id": "ef1a28b7",
   "metadata": {},
   "outputs": [],
   "source": [
    "adjective_adverb_remove_instruction = '''Remove an adjective or adverb from the sentence. Do not remove the following words: {object}, {span}\n",
    "\n",
    "Text: {text}\n",
    "Object: {object}\n",
    "Refers to: {span}\n",
    "'''"
   ]
  },
  {
   "cell_type": "code",
   "execution_count": null,
   "id": "8cdbcddf",
   "metadata": {},
   "outputs": [],
   "source": [
    "request(samples, adjective_adverb_remove_instruction)"
   ]
  },
  {
   "cell_type": "code",
   "execution_count": 93,
   "id": "292765d6",
   "metadata": {},
   "outputs": [],
   "source": [
    "adjective_adverb_add_instruction = '''Add an adjective or an adverb to the sentence.\n",
    "\n",
    "Text: {text}\n",
    "Object: {object}\n",
    "Refers to: {span}\n",
    "'''"
   ]
  },
  {
   "cell_type": "code",
   "execution_count": null,
   "id": "faa7cbf2",
   "metadata": {},
   "outputs": [],
   "source": [
    "request(samples, adjective_adverb_add_instruction)"
   ]
  },
  {
   "cell_type": "markdown",
   "id": "c88ba052",
   "metadata": {},
   "source": [
    "## Pragmatics and discourse"
   ]
  },
  {
   "cell_type": "markdown",
   "id": "e4b03c0f",
   "metadata": {},
   "source": [
    "### Negation"
   ]
  },
  {
   "cell_type": "code",
   "execution_count": 97,
   "id": "b6e4e546",
   "metadata": {},
   "outputs": [],
   "source": [
    "negation_instruction = '''Negate the text by making minimal modifications to introduce different types of negation. The types of negation include:\n",
    "\n",
    "1. \"verbal\": verbal negation: when the negation is grammatically associated with the verb, the head of the clause.\n",
    "Examples:\n",
    "He trusts them. => He does not trust them.\n",
    "\n",
    "2. \"absolute\": Absolute negator: no (including compounds nobody, nothing, etc., and the independent form none), neither, nor, never.\n",
    "Example:\n",
    "He trusts them. => He trusts noone.\n",
    "\n",
    "3. \"approximate\": Approximate negators: few, little; barely, hardly, scarcely; rarely, seldom.\n",
    "Example:\n",
    "He trusts people. => He rarely trusts people.\n",
    "\n",
    "4. \"affixal\": Affixal negators: un-, in-, non-, -less, etc. Do not change the root of the word you add the affix to.\n",
    "Example:\n",
    "He is healthy => He is unhealthy.\n",
    "\n",
    "5. \"lexical\": Lexical negation: when the negation is added by substituting the main predicate of the sentence with its antonym or word carrying negative meaning.\n",
    "Examples:\n",
    "The house is big. => The house is small.\n",
    "\n",
    "6. \"unimportant\": Unimportant negation: when the negation does not affect the main clause of the text and does not affect the coreference chain.\n",
    "Examples:\n",
    "A man is driving his car. => A shirtless man is driving his car.\n",
    "\n",
    "7. \"double\": Double negation: when there are two instances of negation that cancel each other and the meaning is affirmative.\n",
    "\n",
    "Reply with the modified text for each type of negation.\n",
    "\n",
    "Text: {text}\n",
    "Object: {object}\n",
    "Refers to: {span}\n",
    "'''"
   ]
  },
  {
   "cell_type": "code",
   "execution_count": null,
   "id": "3422ae16",
   "metadata": {},
   "outputs": [],
   "source": [
    "request(samples, negation_instruction)"
   ]
  },
  {
   "cell_type": "code",
   "execution_count": 100,
   "id": "d5c19343",
   "metadata": {},
   "outputs": [],
   "source": [
    "antinegation_instruction = '''Check if the text contains negation, and if it does, remove it. Do not make any other modifications. If there is no negation, output Skip. \n",
    "\n",
    "\n",
    "Examples:  \n",
    "\n",
    "Text: The house is not pretty. \n",
    "\n",
    "Modified text: The house is pretty.  \n",
    "\n",
    " \n",
    "\n",
    "Text: The story didn't leave anyone unaffected. \n",
    "\n",
    "Modified text: The story left everyone unaffected. \n",
    "\n",
    "\n",
    "Text: The house is pretty. \n",
    "\n",
    "Modified text: Skip.  \n",
    "\n",
    "\n",
    "Text: {text}\n",
    "Object: {object}\n",
    "Refers to: {span}''' "
   ]
  },
  {
   "cell_type": "code",
   "execution_count": null,
   "id": "1ca161ba",
   "metadata": {},
   "outputs": [],
   "source": [
    "request(samples, antinegation_instruction)"
   ]
  },
  {
   "cell_type": "markdown",
   "id": "8dc27f48",
   "metadata": {},
   "source": [
    "## Discourse markers"
   ]
  },
  {
   "cell_type": "code",
   "execution_count": 102,
   "id": "d6ae9301",
   "metadata": {},
   "outputs": [],
   "source": [
    "discourse_instruction = '''Make modification to the discourse makers in the text. The types of modification include:\n",
    "\n",
    "1. \"addition\": Add discourse markers to the sentence.\n",
    "Example:\n",
    "He was hungry, he went out to eat => He was hungry, so he went out to eat.\n",
    "\n",
    "2. \"replacement\": Change the discourse marker into a different one. If there is no discourse marker, output Skip.\n",
    "Example:\n",
    "He was hungry although he had dinner => He was hungry so he had dinner. (although => so)\n",
    "\n",
    "3. \"deletion\": Delete the discourse marker. If there is no discourse marker, output Skip.\n",
    "Example:\n",
    "He was hungry so he had dinner => He was hungry, he had dinner.\n",
    "\n",
    "For each type of modification, reply with the modified sentences.\n",
    "\n",
    "Text: {text}\n",
    "Object: {object}\n",
    "Refers to: {span}\n",
    "\n",
    "'''"
   ]
  },
  {
   "cell_type": "code",
   "execution_count": null,
   "id": "655e250a",
   "metadata": {},
   "outputs": [],
   "source": [
    "request(samples, discourse_instruction)"
   ]
  },
  {
   "cell_type": "markdown",
   "id": "11555d16",
   "metadata": {},
   "source": [
    "## Sentiment"
   ]
  },
  {
   "cell_type": "code",
   "execution_count": 104,
   "id": "838fc1a9",
   "metadata": {},
   "outputs": [],
   "source": [
    "sentiment_instruction = '''Add a word or a phrase with a positive or negative sentiment to the sentence. \n",
    "\n",
    "Example: We beat the competition -> We are happy to beat the competition. \n",
    "\n",
    "Text: {text}\n",
    "Object: {object}\n",
    "Refers to: {span}\n",
    "\n",
    "'''"
   ]
  },
  {
   "cell_type": "code",
   "execution_count": null,
   "id": "43946571",
   "metadata": {},
   "outputs": [],
   "source": [
    "request(samples, sentiment_instruction)"
   ]
  },
  {
   "cell_type": "markdown",
   "id": "cfa84f6f",
   "metadata": {},
   "source": [
    "## Style"
   ]
  },
  {
   "cell_type": "markdown",
   "id": "75694e2d",
   "metadata": {},
   "source": [
    "### Casual vs formal style"
   ]
  },
  {
   "cell_type": "code",
   "execution_count": 106,
   "id": "5e0c662d",
   "metadata": {},
   "outputs": [],
   "source": [
    "casual_instruction = '''Rewrite the sentence in informal way. Do not modify the following words: {span}\n",
    "\n",
    "Text: {text}\n",
    "Object: {object}\n",
    "Refers to: {span}\n",
    "'''"
   ]
  },
  {
   "cell_type": "code",
   "execution_count": null,
   "id": "f04286de",
   "metadata": {},
   "outputs": [],
   "source": [
    "request(samples, casual_instruction)"
   ]
  },
  {
   "cell_type": "markdown",
   "id": "ba6c7693",
   "metadata": {},
   "source": [
    "### Simple vs Complex English"
   ]
  },
  {
   "cell_type": "markdown",
   "id": "9e473f3e",
   "metadata": {},
   "source": [
    "### Plain English"
   ]
  },
  {
   "cell_type": "code",
   "execution_count": 110,
   "id": "60e257ed",
   "metadata": {},
   "outputs": [],
   "source": [
    "plain_english_instruction = '''Please rewrite the sentence in order to make it easier to understand by non-native speakers of English. \n",
    "You can do so by replacing complex words with simpler synonyms (i.e. paraphrasing), deleting unimportant information (i.e. compres-sion), and/or splitting a long complex sentence into several simpler ones. The final simplified sentence needs to be grammatical, fluent, and retain the main ideas of its original counterpart without altering its meaning.\n",
    "Do not modify the following words: {span}\n",
    "\n",
    "Text: {text}\n",
    "Object: {object}\n",
    "Refers to: {span}\n",
    "\n",
    "'''"
   ]
  },
  {
   "cell_type": "code",
   "execution_count": null,
   "id": "d0a8f4b4",
   "metadata": {},
   "outputs": [],
   "source": [
    "request(samples, plain_english_instruction)"
   ]
  },
  {
   "cell_type": "markdown",
   "id": "aed25f73",
   "metadata": {},
   "source": [
    "### Complex English"
   ]
  },
  {
   "cell_type": "code",
   "execution_count": 112,
   "id": "f8eba3b1",
   "metadata": {},
   "outputs": [],
   "source": [
    "complex_english_instruction = '''Transform the original sentence into more complex English. \n",
    "Change some words with their more sophisticated technical synonym.\n",
    "Change the sentence structure into more complex one.\n",
    "Keep the modified sentence has nearly similar length with original one and do not alter its meaning.\n",
    "Do not modify the following words: {span}\n",
    "\n",
    "Text: {text}\n",
    "Object: {object}\n",
    "Refers to: {span}\n",
    "\n",
    "'''"
   ]
  },
  {
   "cell_type": "code",
   "execution_count": null,
   "id": "89a5628a",
   "metadata": {},
   "outputs": [],
   "source": [
    "request(samples, complex_english_instruction)"
   ]
  },
  {
   "cell_type": "markdown",
   "id": "3fa36c4e",
   "metadata": {},
   "source": [
    "### Dialectal features"
   ]
  },
  {
   "cell_type": "markdown",
   "id": "f1b79f8b",
   "metadata": {},
   "source": [
    "#### African American English"
   ]
  },
  {
   "cell_type": "code",
   "execution_count": 114,
   "id": "621ad19c",
   "metadata": {},
   "outputs": [],
   "source": [
    "aave_english_instruction = '''Rewrite the text in African American Vernacular English. Do not modify the following words: {span}.\n",
    "\n",
    "Text: {text}\n",
    "Object: {object}\n",
    "Refers to: {span}\n",
    "\n",
    "'''"
   ]
  },
  {
   "cell_type": "code",
   "execution_count": null,
   "id": "7ab49df5",
   "metadata": {},
   "outputs": [],
   "source": [
    "request(samples, aave_english_instruction)"
   ]
  },
  {
   "cell_type": "code",
   "execution_count": 116,
   "id": "6742465d",
   "metadata": {},
   "outputs": [],
   "source": [
    "singlish_instruction = '''Rewrite the text in Singapore Colloquial English (Singlish, Basilect). Do not modify the following words: {span}.\n",
    "\n",
    "Text: {text}\n",
    "Object: {object}\n",
    "Refers to: {span}\n",
    "\n",
    "'''"
   ]
  },
  {
   "cell_type": "code",
   "execution_count": null,
   "id": "3d53d993",
   "metadata": {},
   "outputs": [],
   "source": [
    "request(samples, singlish_instruction)"
   ]
  },
  {
   "cell_type": "markdown",
   "id": "65f081f0",
   "metadata": {},
   "source": [
    "#### Indian English "
   ]
  },
  {
   "cell_type": "code",
   "execution_count": 118,
   "id": "8d93e532",
   "metadata": {},
   "outputs": [],
   "source": [
    "higlish_instruction = '''Rewrite the text using Indianisms and Indian English grammar. Do not modify the following words: {span}.\n",
    "\n",
    "Text: {text}\n",
    "Object: {object}\n",
    "Refers to: {span}\n",
    "\n",
    "'''"
   ]
  },
  {
   "cell_type": "code",
   "execution_count": null,
   "id": "9a537e47",
   "metadata": {},
   "outputs": [],
   "source": [
    "request(samples, higlish_instruction)"
   ]
  },
  {
   "cell_type": "code",
   "execution_count": null,
   "id": "26d8fec2",
   "metadata": {},
   "outputs": [],
   "source": []
  }
 ],
 "metadata": {
  "kernelspec": {
   "display_name": "Python 3 (ipykernel)",
   "language": "python",
   "name": "python3"
  },
  "language_info": {
   "codemirror_mode": {
    "name": "ipython",
    "version": 3
   },
   "file_extension": ".py",
   "mimetype": "text/x-python",
   "name": "python",
   "nbconvert_exporter": "python",
   "pygments_lexer": "ipython3",
   "version": "3.9.0"
  }
 },
 "nbformat": 4,
 "nbformat_minor": 5
}
